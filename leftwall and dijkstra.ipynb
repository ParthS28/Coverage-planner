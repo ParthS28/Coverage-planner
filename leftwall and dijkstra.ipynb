{
 "cells": [
  {
   "cell_type": "code",
   "execution_count": 10,
   "metadata": {},
   "outputs": [],
   "source": [
    "import numpy as np\n",
    "from IPython.display import clear_output\n",
    "import time\n",
    "import matplotlib.pyplot as plt\n",
    "import math\n",
    "import cv2 as cv"
   ]
  },
  {
   "cell_type": "code",
   "execution_count": 11,
   "metadata": {},
   "outputs": [
    {
     "data": {
      "image/png": "[encoded data removed]",
      "text/plain": [
       "<matplotlib.figure.Figure at 0x7fd83f339898>"
      ]
     },
     "metadata": {
      "needs_background": "light"
     },
     "output_type": "display_data"
    }
   ],
   "source": [
    "map = cv.imread(\"map_6.png\", 0)\n",
    "\n",
    "map = cv.bitwise_not(map)\n",
    "map = map / 255\n",
    "map *= 100\n",
    "plt.imshow(map)\n",
    "plt.show()"
   ]
  },
  {
   "cell_type": "code",
   "execution_count": 12,
   "metadata": {},
   "outputs": [],
   "source": [
    "start_r = 5      # Needs to be any empty cell on the top wall\n",
    "start_c = 30"
   ]
  },
  {
   "cell_type": "code",
   "execution_count": 13,
   "metadata": {},
   "outputs": [],
   "source": [
    "def free_left():\n",
    "    for i in range(100):\n",
    "        for j in range(100):\n",
    "            if map[i][j] == 0:\n",
    "                return True\n",
    "    return False\n",
    "def print_map():\n",
    "    for i in range(100):\n",
    "        print(map[i])\n",
    "def nextfree(r, c):\n",
    "    for i in range(100):\n",
    "        for j in range(100):\n",
    "            if map[i][j] == 0:\n",
    "                return i, j"
   ]
  },
  {
   "cell_type": "code",
   "execution_count": 14,
   "metadata": {},
   "outputs": [],
   "source": [
    "from queue import PriorityQueue\n",
    "import math\n",
    "def index(r, c):\n",
    "    return r * 100 + c\n",
    "def distance(r, c, rr, cc):\n",
    "    return math.sqrt((r - rr)**2 + (c-cc)**2)\n",
    "\n",
    "def dijkstra(source_r, source_c, dest_r, dest_c):\n",
    "    dist = np.zeros((100, 100))\n",
    "    \n",
    "    prev = np.ones((100, 100))\n",
    "    visited = np.zeros((100, 100)) # 1 blocked/visited\n",
    "    pq = PriorityQueue() \n",
    "\n",
    "    for i in range(100):\n",
    "        for j in range(100):\n",
    "            if map[i][j] == 100:\n",
    "                visited[i][j] = 1\n",
    "            else:\n",
    "                visited[i][j] = 0\n",
    "            prev[i][j] = 99999999\n",
    "            dist[i][j] = 10000000\n",
    "    node = [0.0, index(source_r, source_c)]\n",
    "    pq.put(node)\n",
    "    while not pq.empty():\n",
    "        temp = pq.get()\n",
    "        #print(temp)\n",
    "        ind = temp[1]\n",
    "        r = ind // 100\n",
    "        c = ind - r * 100\n",
    "        dr = [1, -1, 0, 0, 1, 1, -1, -1]\n",
    "        dc = [0, 0, 1, -1, 1, -1, 1, -1]\n",
    "        for i in range(8):\n",
    "            rr = r + dr[i]\n",
    "            cc = c + dc[i]\n",
    "            \n",
    "            if cc < 0 or rr < 0 or rr > 99 or cc > 99 or map[rr][cc] == 100:\n",
    "                continue\n",
    "            else:\n",
    "                if i <= 3:\n",
    "                    alt = temp[0] + 1\n",
    "                else:\n",
    "                    alt = temp[0] + 1.414\n",
    "            if alt < dist[rr][cc]:\n",
    "                visited[rr][cc] = 1\n",
    "                dist[rr][cc] = alt\n",
    "                prev[rr][cc] = index(r, c)\n",
    "                pq.put([alt, index(rr, cc)])\n",
    "            if visited[dest_r][dest_c] == 1:\n",
    "                break\n",
    "        if visited[dest_r][dest_c] == 1:\n",
    "            break\n",
    "    map[dest_r][dest_c] = 90\n",
    "    r = dest_r\n",
    "    c = dest_c\n",
    "    #print(prev)\n",
    "    while(True):\n",
    "        #print(\"really\")\n",
    "        next = prev[r][c]\n",
    "        #print(next)\n",
    "        r = int(next // 100)\n",
    "        c = int(next - r * 100)\n",
    "        map[r][c] = 90\n",
    "        #plt.imshow(map)\n",
    "        #plt.show()\n",
    "        #time.sleep(0.25)\n",
    "        #clear_output()\n",
    "        \n",
    "        if map[source_r][source_c] == 90:\n",
    "            break\n",
    "# changed 50 to 75"
   ]
  },
  {
   "cell_type": "code",
   "execution_count": 16,
   "metadata": {},
   "outputs": [
    {
     "data": {
      "image/png": "[encoded data removed]",
      "text/plain": [
       "<matplotlib.figure.Figure at 0x7fd83cfd9ac8>"
      ]
     },
     "metadata": {
      "needs_background": "light"
     },
     "output_type": "display_data"
    }
   ],
   "source": [
    "current_r = start_r\n",
    "current_c = start_c\n",
    "prev_r = 0\n",
    "prev_c = 0\n",
    "dir = 'd'\n",
    "count = 0\n",
    "# d = right s = down a = left w = up\n",
    "while(free_left()):\n",
    "    if dir == 'd':\n",
    "        if map[current_r-1][current_c] >= 75:\n",
    "            map[current_r][current_c] = 75\n",
    "            prev_r = current_r\n",
    "            prev_c = current_c\n",
    "            current_c += 1\n",
    "        if map[current_r][current_c] >= 75:\n",
    "            current_c -= 1\n",
    "            dir = 's'\n",
    "        if not map[current_r-1][current_c] >= 75:\n",
    "            dir = 's'\n",
    "    if dir == 's':\n",
    "        if map[current_r][current_c+1] >= 75:\n",
    "            map[current_r][current_c] = 75\n",
    "            prev_r = current_r\n",
    "            prev_c = current_c\n",
    "            current_r += 1\n",
    "        if map[current_r][current_c] >= 75:\n",
    "            current_r -= 1\n",
    "            dir = 'a'\n",
    "        if not map[current_r][current_c+1] >= 75:\n",
    "            dir = 'a'\n",
    "    if dir == 'a':\n",
    "        if map[current_r+1][current_c] >= 75:\n",
    "            map[current_r][current_c] = 75\n",
    "            prev_r = current_r\n",
    "            prev_c = current_c\n",
    "            current_c -= 1\n",
    "        if map[current_r][current_c] >= 75:\n",
    "            current_c += 1\n",
    "            dir = 'w'\n",
    "        if not map[current_r+1][current_c] >= 75:\n",
    "            dir = 'w'\n",
    "    if dir == 'w':\n",
    "        if map[current_r][current_c-1] >= 75:\n",
    "            map[current_r][current_c] = 75\n",
    "            prev_r = current_r\n",
    "            prev_c = current_c\n",
    "            current_r -= 1\n",
    "        if map[current_r][current_c] >= 75:\n",
    "            current_r += 1\n",
    "            dir = 'd'\n",
    "        if not map[current_r][current_c-1] >= 75:\n",
    "            dir = 'd'\n",
    "    if map[current_r-1][current_c] >= 75 and map[current_r][current_c+1] >= 75 and map[current_r+1][current_c] >= 75 and map[current_r][current_c-1] >= 75:\n",
    "        map[current_r][current_c] = 75\n",
    "        if(free_left() == False):\n",
    "            break\n",
    "        next_r, next_c = nextfree(current_r, current_c)\n",
    "        \n",
    "        dijkstra(next_r, next_c, current_r, current_c)\n",
    "        current_r = next_r\n",
    "        current_c = next_c\n",
    "    \n",
    "        \n",
    "    ### Uncomment these time to get a cool animation of the traversal\n",
    "    #plt.imshow(map)\n",
    "    #plt.show()\n",
    "    #time.sleep(0.25)\n",
    "    #clear_output()\n",
    "\n",
    "plt.imshow(map)\n",
    "plt.show()"
   ]
  },
  {
   "cell_type": "code",
   "execution_count": null,
   "metadata": {},
   "outputs": [],
   "source": []
  },
  {
   "cell_type": "code",
   "execution_count": null,
   "metadata": {},
   "outputs": [],
   "source": []
  },
  {
   "cell_type": "code",
   "execution_count": null,
   "metadata": {},
   "outputs": [],
   "source": []
  },
  {
   "cell_type": "code",
   "execution_count": null,
   "metadata": {},
   "outputs": [],
   "source": []
  },
  {
   "cell_type": "code",
   "execution_count": null,
   "metadata": {},
   "outputs": [],
   "source": []
  }
 ],
 "metadata": {
  "kernelspec": {
   "display_name": "Python 3",
   "language": "python",
   "name": "python3"
  },
  "language_info": {
   "codemirror_mode": {
    "name": "ipython",
    "version": 3
   },
   "file_extension": ".py",
   "mimetype": "text/x-python",
   "name": "python",
   "nbconvert_exporter": "python",
   "pygments_lexer": "ipython3",
   "version": "3.6.9"
  }
 },
 "nbformat": 4,
 "nbformat_minor": 2
}
